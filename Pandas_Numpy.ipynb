{
 "cells": [
  {
   "cell_type": "code",
   "execution_count": 14,
   "id": "9d76ce95",
   "metadata": {},
   "outputs": [],
   "source": [
    "import numpy as np\n",
    "import pandas as pd"
   ]
  },
  {
   "cell_type": "code",
   "execution_count": 2,
   "id": "2535c451",
   "metadata": {},
   "outputs": [
    {
     "data": {
      "text/plain": [
       "array([ 2,  4, 10, 12, 40])"
      ]
     },
     "execution_count": 2,
     "metadata": {},
     "output_type": "execute_result"
    }
   ],
   "source": [
    "C = [12, 4, 10, 40, 2]\n",
    "C = np.sort(C)\n",
    "C"
   ]
  },
  {
   "cell_type": "code",
   "execution_count": 13,
   "id": "480fdafb",
   "metadata": {},
   "outputs": [
    {
     "data": {
      "text/plain": [
       "array([(b'Juan', 10, 1. ), (b'Maria', 70, 1.4), (b'Samuel', 15, 1.5),\n",
       "       (b'Javier', 42, 1.7)],\n",
       "      dtype=[('nombre', 'S10'), ('edad', '<i4'), ('estatura', '<f8')])"
      ]
     },
     "execution_count": 13,
     "metadata": {},
     "output_type": "execute_result"
    }
   ],
   "source": [
    "#Creacion de estructura \n",
    "\n",
    "cabeceras = [('nombre', 'S10'), ('edad', int) , ('estatura', float)]\n",
    "datos = [ ('Juan', 10, 1), ('Maria', 70, 1.4 ), ('Javier',42 , 1.7), ('Samuel', 15, 1.5)]\n",
    "usuarios = np.array(datos, dtype = cabeceras)\n",
    "\n",
    "dt= np.sort(usuarios, order = 'estatura') #Ordena la estructura a partir de la edad"
   ]
  },
  {
   "cell_type": "code",
   "execution_count": 9,
   "id": "a71d2478",
   "metadata": {},
   "outputs": [
    {
     "data": {
      "text/plain": [
       "array([[ 0,  0,  0,  0],\n",
       "       [ 0,  3,  0,  0],\n",
       "       [ 0,  0,  9,  0],\n",
       "       [ 0,  0,  0, 25]])"
      ]
     },
     "execution_count": 9,
     "metadata": {},
     "output_type": "execute_result"
    }
   ],
   "source": [
    "\n",
    "a = np.full ( (3,5) , 5 ) #cracion de un arregle bi-dimensional \n",
    "b = np.diag([0,3,9,25]) # Crea una diagonal con los valores dados en una matriz (cuadrada)\n",
    "b"
   ]
  },
  {
   "cell_type": "code",
   "execution_count": 17,
   "id": "1793444c",
   "metadata": {},
   "outputs": [
    {
     "data": {
      "text/plain": [
       "20"
      ]
     },
     "execution_count": 17,
     "metadata": {},
     "output_type": "execute_result"
    }
   ],
   "source": [
    "## PANDAS \n",
    "\n",
    "series = pd.Series ( [5,10,15,20,25])\n",
    "series[3]  # Para visualizar el dato de la posicion 3 de serie\n"
   ]
  },
  {
   "cell_type": "code",
   "execution_count": 19,
   "id": "754f1a2a",
   "metadata": {},
   "outputs": [
    {
     "data": {
      "text/plain": [
       "0    p\n",
       "1    l\n",
       "2    a\n",
       "3    t\n",
       "4    z\n",
       "5    i\n",
       "dtype: object"
      ]
     },
     "execution_count": 19,
     "metadata": {},
     "output_type": "execute_result"
    }
   ],
   "source": [
    "cad = pd.Series( ['p','l','a', 't', 'z', 'i'])\n",
    "cad              "
   ]
  },
  {
   "cell_type": "code",
   "execution_count": 20,
   "id": "b006d322",
   "metadata": {},
   "outputs": [
    {
     "data": {
      "text/html": [
       "<div>\n",
       "<style scoped>\n",
       "    .dataframe tbody tr th:only-of-type {\n",
       "        vertical-align: middle;\n",
       "    }\n",
       "\n",
       "    .dataframe tbody tr th {\n",
       "        vertical-align: top;\n",
       "    }\n",
       "\n",
       "    .dataframe thead th {\n",
       "        text-align: right;\n",
       "    }\n",
       "</style>\n",
       "<table border=\"1\" class=\"dataframe\">\n",
       "  <thead>\n",
       "    <tr style=\"text-align: right;\">\n",
       "      <th></th>\n",
       "      <th>0</th>\n",
       "    </tr>\n",
       "  </thead>\n",
       "  <tbody>\n",
       "    <tr>\n",
       "      <th>0</th>\n",
       "      <td>Hola</td>\n",
       "    </tr>\n",
       "    <tr>\n",
       "      <th>1</th>\n",
       "      <td>mundo</td>\n",
       "    </tr>\n",
       "    <tr>\n",
       "      <th>2</th>\n",
       "      <td>robotico</td>\n",
       "    </tr>\n",
       "  </tbody>\n",
       "</table>\n",
       "</div>"
      ],
      "text/plain": [
       "          0\n",
       "0      Hola\n",
       "1     mundo\n",
       "2  robotico"
      ]
     },
     "execution_count": 20,
     "metadata": {},
     "output_type": "execute_result"
    }
   ],
   "source": [
    "#Dataframe \n",
    "\n",
    "lst = ['Hola', 'mundo', 'robotico']\n",
    "df = pd.DataFrame(lst)\n"
   ]
  },
  {
   "cell_type": "code",
   "execution_count": 22,
   "id": "d99f0ead",
   "metadata": {},
   "outputs": [
    {
     "name": "stdout",
     "output_type": "stream",
     "text": [
      "   Nombre Pais\n",
      "0    Juan   Mx\n",
      "1     Ana   Co\n",
      "2    Jose   Br\n",
      "3  Arturo   Mx\n"
     ]
    }
   ],
   "source": [
    " # Crea dos cabeceras (Nombre y Edad) con sus respectivos datos\n",
    "data = {'Nombre':['Juan', 'Ana', 'Jose', 'Arturo'], \n",
    "        'Edad' : [25,18,23,27],\n",
    "        'Pais' : ['Mx' , 'Co','Br','Mx']}\n",
    "df = pd.DataFrame(data)\n",
    "\n",
    "print(df[['Nombre', 'Pais']]) # Para imprimir dos dos datos de la cabecera \n",
    "\n"
   ]
  },
  {
   "cell_type": "code",
   "execution_count": 39,
   "id": "3db67ca0",
   "metadata": {},
   "outputs": [],
   "source": [
    "# leer archivo de excel \n",
    "\n",
    "data =pd.read_csv('canciones_2018.csv')\n",
    "data.head(5) #Solo muestra los 5 primeros elementos \n",
    "\n",
    "#Para agregar un dato a una varible del archivo\n",
    "# var = data.nombreVariable\n",
    "\n",
    "#Data.shape  Para conocer el tamaño del archivo fila, columna \n",
    "\n",
    "key= data['key']\n",
    "liveness =  data['liveness']\n",
    "danceability = data['danceability']\n",
    "\n",
    "\n",
    "key = key.sort_index(axis = 0, ascending = True)  #Para organizar los datos de forma ascendente\n",
    "liveness = liveness.sort_index(axis = 0, ascending = True)\n",
    "danceability = danceability.sort_index(axis = 0, ascending = True)\n"
   ]
  },
  {
   "cell_type": "markdown",
   "id": "76d1cb82",
   "metadata": {},
   "source": []
  },
  {
   "cell_type": "markdown",
   "id": "fa4887c7",
   "metadata": {},
   "source": []
  },
  {
   "cell_type": "markdown",
   "id": "534d5908",
   "metadata": {},
   "source": []
  },
  {
   "cell_type": "code",
   "execution_count": null,
   "id": "a1735140",
   "metadata": {},
   "outputs": [],
   "source": []
  }
 ],
 "metadata": {
  "kernelspec": {
   "display_name": "Python 3",
   "language": "python",
   "name": "python3"
  },
  "language_info": {
   "codemirror_mode": {
    "name": "ipython",
    "version": 3
   },
   "file_extension": ".py",
   "mimetype": "text/x-python",
   "name": "python",
   "nbconvert_exporter": "python",
   "pygments_lexer": "ipython3",
   "version": "3.8.8"
  }
 },
 "nbformat": 4,
 "nbformat_minor": 5
}
