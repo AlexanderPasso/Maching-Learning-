{
 "cells": [
  {
   "cell_type": "markdown",
   "id": "19d54045",
   "metadata": {},
   "source": [
    "### Scikit Learn:  Biblioteca de codigo abierto para el aprendizaje automatico, incluye algoritmos como arboles de decision, regresion, maquina de soporte vectorial, entre otros...\n",
    "\n",
    "##### Variedad de modulos, Versatilidad, Facilidad de uso... \n",
    "\n",
    "from sklearn\n",
    "import [modelo] #modelo a necesitar \n",
    "\n",
    "from sklear\n",
    "import tree #metodo del arbol de decision "
   ]
  },
  {
   "cell_type": "markdown",
   "id": "45699712",
   "metadata": {},
   "source": [
    "### Importar biblioteca:\n",
    "from sklearn import [modulo]\n",
    "\n",
    "#División del conjunto de datos para entrenamiento y pruebas:\n",
    "X_train, X_test, y_train, y_test = train_test_split(X, y, test_size = 0.25, random_state = 0)\n",
    "\n",
    "#Entrenar modelo:\n",
    "[modelo].fit(X_train, y_train)\n",
    "\n",
    "#Predicción del modelo:\n",
    "Y_pred = [modelo].predict(X_test)\n",
    "\n",
    "#Matriz de confusión:\n",
    "metrics.confusion_matrix(y_test, y_pred)\n",
    "\n",
    "#Calcular la exactitud:\n",
    "metrics.accuracy_score(y_test, y_pred)"
   ]
  },
  {
   "cell_type": "markdown",
   "id": "2c20596b",
   "metadata": {},
   "source": [
    "#### Que es la prediccion de datos : Algoritmos que se definen como \"clasificadores\" que identifican a que  conjunto de categorias pertenecen los datos.\n",
    "\n",
    "\n",
    "#### subreajuste: Al modelo se le obliga a entender solo un caso en particular (overfitting)\n",
    "#### Subajuste: El algoritmo falla por falta de informacion "
   ]
  },
  {
   "cell_type": "markdown",
   "id": "2448cb2d",
   "metadata": {},
   "source": [
    "##### regresion lineal simple: Indica la tendencia de un conjunto de datos continuos (Datos cuantitativos) \n",
    "##### Regresion lineal multiple: Si hay mas de dos variables. (Datos cuantitativos)"
   ]
  },
  {
   "cell_type": "code",
   "execution_count": 3,
   "id": "71128506",
   "metadata": {},
   "outputs": [],
   "source": [
    "#Ejercicios de regresion lineal \n",
    "import pandas as pd\n",
    "import matplotlib.pyplot as plt\n",
    "from sklearn.model_selection import train_test_split #Dividir los datos \n",
    "from sklearn.linear_model import LinearRegression  #Importar la libreria de regresion lineal "
   ]
  },
  {
   "cell_type": "code",
   "execution_count": 6,
   "id": "54cefb38",
   "metadata": {},
   "outputs": [
    {
     "data": {
      "text/html": [
       "<div>\n",
       "<style scoped>\n",
       "    .dataframe tbody tr th:only-of-type {\n",
       "        vertical-align: middle;\n",
       "    }\n",
       "\n",
       "    .dataframe tbody tr th {\n",
       "        vertical-align: top;\n",
       "    }\n",
       "\n",
       "    .dataframe thead th {\n",
       "        text-align: right;\n",
       "    }\n",
       "</style>\n",
       "<table border=\"1\" class=\"dataframe\">\n",
       "  <thead>\n",
       "    <tr style=\"text-align: right;\">\n",
       "      <th></th>\n",
       "      <th>Aexperiencia</th>\n",
       "      <th>Salario</th>\n",
       "    </tr>\n",
       "  </thead>\n",
       "  <tbody>\n",
       "    <tr>\n",
       "      <th>0</th>\n",
       "      <td>10.0</td>\n",
       "      <td>42500</td>\n",
       "    </tr>\n",
       "    <tr>\n",
       "      <th>1</th>\n",
       "      <td>8.0</td>\n",
       "      <td>36302</td>\n",
       "    </tr>\n",
       "    <tr>\n",
       "      <th>2</th>\n",
       "      <td>5.4</td>\n",
       "      <td>35000</td>\n",
       "    </tr>\n",
       "    <tr>\n",
       "      <th>3</th>\n",
       "      <td>2.5</td>\n",
       "      <td>18103</td>\n",
       "    </tr>\n",
       "    <tr>\n",
       "      <th>4</th>\n",
       "      <td>1.0</td>\n",
       "      <td>15000</td>\n",
       "    </tr>\n",
       "  </tbody>\n",
       "</table>\n",
       "</div>"
      ],
      "text/plain": [
       "   Aexperiencia  Salario\n",
       "0          10.0    42500\n",
       "1           8.0    36302\n",
       "2           5.4    35000\n",
       "3           2.5    18103\n",
       "4           1.0    15000"
      ]
     },
     "execution_count": 6,
     "metadata": {},
     "output_type": "execute_result"
    }
   ],
   "source": [
    "dataset = pd.read_csv('salarios.csv')\n",
    "dataset.head(5)"
   ]
  },
  {
   "cell_type": "code",
   "execution_count": 7,
   "id": "207d2399",
   "metadata": {},
   "outputs": [],
   "source": [
    "x = dataset.iloc[:, :-1].values  #Obtiene los valores de una columna a partir de .iloc\n",
    "y = dataset.iloc[:, 1].values  #Obtiene los valores de otra columna "
   ]
  },
  {
   "cell_type": "code",
   "execution_count": 21,
   "id": "2707095b",
   "metadata": {},
   "outputs": [],
   "source": [
    "X_train, X_test, Y_train, Y_test = train_test_split(x, y, test_size=0.2, random_state = 0)  #70% de datos para aprender y el restante para validar el modelo"
   ]
  },
  {
   "cell_type": "code",
   "execution_count": 26,
   "id": "364ad2d0",
   "metadata": {},
   "outputs": [
    {
     "name": "stdout",
     "output_type": "stream",
     "text": [
      "(24, 1)\n",
      "(24,)\n"
     ]
    },
    {
     "data": {
      "text/plain": [
       "LinearRegression()"
      ]
     },
     "execution_count": 26,
     "metadata": {},
     "output_type": "execute_result"
    }
   ],
   "source": [
    "# 1) Toma de datos, 2) Divide los datos. 3)Entrena con .fit  \n",
    "regressor = LinearRegression()\n",
    "print(X_train.shape)\n",
    "print(Y_train.shape)\n",
    "regressor.fit(X_train, Y_train) #.fit crea el modelo "
   ]
  },
  {
   "cell_type": "code",
   "execution_count": 19,
   "id": "0a6ff4ec",
   "metadata": {},
   "outputs": [
    {
     "data": {
      "image/png": "[encoded data removed]",
      "text/plain": [
       "<Figure size 432x288 with 1 Axes>"
      ]
     },
     "metadata": {
      "needs_background": "light"
     },
     "output_type": "display_data"
    }
   ],
   "source": [
    "viz_train = plt \n",
    "viz_train.scatter(X_train, Y_train, color = 'blue')\n",
    "viz_train.plot(X_train, regressor.predict(X_train), color = 'red')\n",
    "viz_train.title('Salario vs Experiencia')\n",
    "viz_train.xlabel('Experiencia')\n",
    "viz_train.ylabel('Salario')\n",
    "viz_train.show()"
   ]
  },
  {
   "cell_type": "code",
   "execution_count": 23,
   "id": "6979200f",
   "metadata": {},
   "outputs": [
    {
     "data": {
      "image/png": "[encoded data removed]",
      "text/plain": [
       "<Figure size 432x288 with 1 Axes>"
      ]
     },
     "metadata": {
      "needs_background": "light"
     },
     "output_type": "display_data"
    }
   ],
   "source": [
    "viz_train = plt \n",
    "viz_train.scatter(X_test, Y_test, color = 'red')\n",
    "viz_train.plot(X_train, regressor.predict(X_train), color = 'black')\n",
    "viz_train.title('Salario vs Experiencia')\n",
    "viz_train.xlabel('Experiencia')\n",
    "viz_train.ylabel('Salario')\n",
    "viz_train.show()"
   ]
  },
  {
   "cell_type": "code",
   "execution_count": 24,
   "id": "769ef812",
   "metadata": {},
   "outputs": [
    {
     "data": {
      "text/plain": [
       "0.7862437374732998"
      ]
     },
     "execution_count": 24,
     "metadata": {},
     "output_type": "execute_result"
    }
   ],
   "source": [
    "regressor.score(X_test, Y_test) #Nos dice que tan cercano está de lo que se está aprendiendo (numero entre 0-1) porcentaje"
   ]
  },
  {
   "cell_type": "markdown",
   "id": "3ade2428",
   "metadata": {},
   "source": []
  },
  {
   "cell_type": "code",
   "execution_count": null,
   "id": "f35188ac",
   "metadata": {},
   "outputs": [],
   "source": []
  },
  {
   "cell_type": "code",
   "execution_count": null,
   "id": "f3fdc747",
   "metadata": {},
   "outputs": [],
   "source": []
  },
  {
   "cell_type": "code",
   "execution_count": null,
   "id": "98f5846c",
   "metadata": {},
   "outputs": [],
   "source": []
  }
 ],
 "metadata": {
  "kernelspec": {
   "display_name": "Python 3",
   "language": "python",
   "name": "python3"
  },
  "language_info": {
   "codemirror_mode": {
    "name": "ipython",
    "version": 3
   },
   "file_extension": ".py",
   "mimetype": "text/x-python",
   "name": "python",
   "nbconvert_exporter": "python",
   "pygments_lexer": "ipython3",
   "version": "3.8.8"
  }
 },
 "nbformat": 4,
 "nbformat_minor": 5
}
